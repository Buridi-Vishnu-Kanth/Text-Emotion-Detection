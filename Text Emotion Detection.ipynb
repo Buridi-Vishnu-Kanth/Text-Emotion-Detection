{
 "cells": [
  {
   "cell_type": "code",
   "execution_count": 1,
   "id": "43881d92-cd7e-4e9d-8bc4-07296f1a257c",
   "metadata": {},
   "outputs": [],
   "source": [
    "import pandas as pd\n",
    "import numpy as np\n",
    "import seaborn as sns"
   ]
  },
  {
   "cell_type": "markdown",
   "id": "0b4b19cd-bcae-483a-aba9-7dd9903a8ac3",
   "metadata": {},
   "source": [
    "## Exploring Data Visualization with Python Libraries\n",
    "\n",
    "### Introduction\n",
    "* Specifically, we will focus on the popular libraries: Pandas, NumPy, and Seaborn.\n",
    "\n",
    "### Key Concepts\n",
    "* Pandas: Pandas is a powerful data manipulation library that provides data structures like DataFrames, which are essential for data analysis and visualization.\n",
    "* NumPy: NumPy is a fundamental package for scientific computing in Python. It provides support for large, multi-dimensional arrays and matrices, along with a collection of mathematical functions to operate on these arrays.\n",
    "* Seaborn: Seaborn is a statistical data visualization library based on Matplotlib. It provides a high-level interface for creating attractive and informative statistical graphics.\n",
    "\n",
    "### Code Structure\n",
    "* The code snippet imports the necessary libraries for data manipulation and visualization.\n",
    "\n",
    "* import pandas as pd: Imports the Pandas library and aliases it as pd for easier access to its functions.\n",
    "* import numpy as np: Imports the NumPy library and aliases it as np for efficient array operations.\n",
    "* import seaborn as sns: Imports the Seaborn library and aliases it as sns for creating visually appealing statistical plots.\n",
    "\n",
    "### In the code\n",
    "* We generate random data and create a Pandas DataFrame.\n",
    "* Then, we use Seaborn to plot a scatter plot where the points are colored based on the 'Category' column."
   ]
  },
  {
   "cell_type": "markdown",
   "id": "5e5f39b3-7dc2-4555-a181-02f288a2d148",
   "metadata": {},
   "source": [
    "## Loading the dataset"
   ]
  },
  {
   "cell_type": "code",
   "execution_count": 2,
   "id": "eea594a0-5c90-45df-aed1-c15ae5b6242e",
   "metadata": {},
   "outputs": [],
   "source": [
    "df = pd.read_csv(\"emotion_dataset.csv\")"
   ]
  },
  {
   "cell_type": "markdown",
   "id": "7b446b2a-99be-4d28-940f-9bd075cd80c8",
   "metadata": {},
   "source": [
    "## Exploring Emotion Dataset with Pandas\n",
    "\n",
    "### Introduction\n",
    "* The code snippet provided reads a CSV file named \"emotion_dataset.csv\" into a Pandas DataFrame for further analysis and manipulation.\n",
    "\n",
    "### Key Concepts\n",
    "* Pandas: A powerful data manipulation library in Python that provides data structures like DataFrames for handling tabular data efficiently.\n",
    "* CSV File: A common file format for storing tabular data in a plain text format with rows and columns separated by commas.\n",
    "\n",
    "### Code Structure\n",
    "* The code snippet consists of a single line that reads the CSV file \"emotion_dataset.csv\" into a Pandas DataFrame.\n",
    "* This operation allows us to load the dataset into memory for exploration and analysis.\n",
    "\n",
    "### In the code\n",
    "* By using the pd.read_csv() function from the Pandas library, we can easily load the \"emotion_dataset.csv\" file into a DataFrame named df.\n",
    "* This step is crucial for any data analysis or machine learning tasks that require working with structured data.\n",
    "* Now, you are ready to explore, clean, and analyze the emotion dataset using the powerful features of Pandas in Python."
   ]
  },
  {
   "cell_type": "code",
   "execution_count": 3,
   "id": "4eef8166-f865-43ab-bcf2-651d5d298f0a",
   "metadata": {},
   "outputs": [
    {
     "data": {
      "text/html": [
       "<div>\n",
       "<style scoped>\n",
       "    .dataframe tbody tr th:only-of-type {\n",
       "        vertical-align: middle;\n",
       "    }\n",
       "\n",
       "    .dataframe tbody tr th {\n",
       "        vertical-align: top;\n",
       "    }\n",
       "\n",
       "    .dataframe thead th {\n",
       "        text-align: right;\n",
       "    }\n",
       "</style>\n",
       "<table border=\"1\" class=\"dataframe\">\n",
       "  <thead>\n",
       "    <tr style=\"text-align: right;\">\n",
       "      <th></th>\n",
       "      <th>Emotion</th>\n",
       "      <th>Text</th>\n",
       "    </tr>\n",
       "  </thead>\n",
       "  <tbody>\n",
       "    <tr>\n",
       "      <th>0</th>\n",
       "      <td>neutral</td>\n",
       "      <td>Why ?</td>\n",
       "    </tr>\n",
       "    <tr>\n",
       "      <th>1</th>\n",
       "      <td>joy</td>\n",
       "      <td>Sage Act upgrade on my to do list for tommorow.</td>\n",
       "    </tr>\n",
       "    <tr>\n",
       "      <th>2</th>\n",
       "      <td>sadness</td>\n",
       "      <td>ON THE WAY TO MY HOMEGIRL BABY FUNERAL!!! MAN ...</td>\n",
       "    </tr>\n",
       "    <tr>\n",
       "      <th>3</th>\n",
       "      <td>joy</td>\n",
       "      <td>Such an eye ! The true hazel eye-and so brill...</td>\n",
       "    </tr>\n",
       "    <tr>\n",
       "      <th>4</th>\n",
       "      <td>joy</td>\n",
       "      <td>@Iluvmiasantos ugh babe.. hugggzzz for u .!  b...</td>\n",
       "    </tr>\n",
       "  </tbody>\n",
       "</table>\n",
       "</div>"
      ],
      "text/plain": [
       "   Emotion                                               Text\n",
       "0  neutral                                             Why ? \n",
       "1      joy    Sage Act upgrade on my to do list for tommorow.\n",
       "2  sadness  ON THE WAY TO MY HOMEGIRL BABY FUNERAL!!! MAN ...\n",
       "3      joy   Such an eye ! The true hazel eye-and so brill...\n",
       "4      joy  @Iluvmiasantos ugh babe.. hugggzzz for u .!  b..."
      ]
     },
     "execution_count": 3,
     "metadata": {},
     "output_type": "execute_result"
    }
   ],
   "source": [
    "df.head()"
   ]
  },
  {
   "cell_type": "markdown",
   "id": "ba6af47b-66b9-4e72-9d67-dbf3319b67ab",
   "metadata": {},
   "source": [
    "## Explaining df.head()\n",
    "\n",
    "### Introduction\n",
    "* In Python, the df.head() function is commonly used in data analysis and manipulation libraries like Pandas.\n",
    "* This function allows you to view the first few rows of a DataFrame quickly.\n",
    "* Understanding how to use df.head() is essential for data exploration and initial data inspection tasks.\n",
    "\n",
    "### Key Concepts\n",
    "* DataFrame: A DataFrame is a two-dimensional labeled data structure with columns of potentially different types. It is a fundamental data structure in Pandas for data manipulation.\n",
    "* df.head(): This method is used to display the first few rows of a DataFrame. By default, it shows the first 5 rows, but you can specify the number of rows to display.\n",
    "\n",
    "### Code Structure\n",
    "* The syntax for using df.head() is straightforward\n",
    "\n",
    "### In the Code\n",
    "* The df.head() function in Python is a handy tool for quickly inspecting the contents of a DataFrame.\n",
    "* By using this function, you can easily check the structure and values of the initial rows in your dataset, which is essential for data exploration and analysis."
   ]
  },
  {
   "cell_type": "code",
   "execution_count": 4,
   "id": "dc475683-1191-4a76-974c-9a3a681d5c54",
   "metadata": {},
   "outputs": [
    {
     "data": {
      "text/plain": [
       "Emotion\n",
       "joy         11045\n",
       "sadness      6722\n",
       "fear         5410\n",
       "anger        4297\n",
       "surprise     4062\n",
       "neutral      2254\n",
       "disgust       856\n",
       "shame         146\n",
       "Name: count, dtype: int64"
      ]
     },
     "execution_count": 4,
     "metadata": {},
     "output_type": "execute_result"
    }
   ],
   "source": [
    "df['Emotion'].value_counts()"
   ]
  },
  {
   "cell_type": "markdown",
   "id": "6b3115fc-6b15-4f90-909c-c659a276b275",
   "metadata": {},
   "source": [
    "## Exploring Emotions in a DataFrame\n",
    "\n",
    "### Introduction\n",
    "* We will delve into how to analyze emotions stored in a DataFrame using Python. \n",
    "* The code snippet provided focuses on counting the occurrences of each emotion in a specific column of the DataFrame.\n",
    "\n",
    "### Key Concepts\n",
    "* DataFrame: A tabular data structure in pandas that stores data in rows and columns.\n",
    "* value_counts(): A pandas function that returns a Series containing counts of unique values in a DataFrame column.\n",
    "\n",
    "### Code Structure\n",
    "The code snippet df['Emotion'].value_counts() is structured as follows:\n",
    "* df: Refers to the DataFrame containing the data.\n",
    "* ['Emotion']: Specifies the column 'Emotion' within the DataFrame where emotions are stored.\n",
    "* value_counts(): Calculates the frequency of each unique emotion in the 'Emotion' column.\n",
    "\n",
    "### In the code\n",
    "* By using df['Emotion'].value_counts(), you can efficiently analyze the distribution of emotions in your DataFrame.\n",
    "* This code snippet provides valuable insights into the frequency of different emotions, which can be crucial for various data analysis tasks."
   ]
  },
  {
   "cell_type": "code",
   "execution_count": 5,
   "id": "fdf99f98-e2e9-48fb-93ed-512ceb32da08",
   "metadata": {},
   "outputs": [
    {
     "data": {
      "text/plain": [
       "<Axes: xlabel='Emotion', ylabel='count'>"
      ]
     },
     "execution_count": 5,
     "metadata": {},
     "output_type": "execute_result"
    },
    {
     "data": {
      "image/png": "[encoded data removed]",
      "text/plain": [
       "<Figure size 640x480 with 1 Axes>"
      ]
     },
     "metadata": {},
     "output_type": "display_data"
    }
   ],
   "source": [
    "sns.countplot(x='Emotion',data=df)"
   ]
  },
  {
   "cell_type": "markdown",
   "id": "8aee3988-7dc5-4536-b0e3-b8d3ece5a639",
   "metadata": {},
   "source": [
    "## Explaining a Seaborn Countplot \n",
    "\n",
    "### Introduction\n",
    "* In this explanation, we will delve into the code snippet that utilizes Seaborn to create a countplot in Python. \n",
    "* A countplot is a type of categorical plot that shows the number of occurrences of each unique category in a dataset.\n",
    "\n",
    "### Key Concepts\n",
    "* Seaborn: Seaborn is a Python data visualization library based on Matplotlib that provides a high-level interface for creating attractive and informative statistical graphics.\n",
    "* Countplot: A countplot is a categorical plot that shows the count of observations in each category using bars.\n",
    "\n",
    "### Code Structure\n",
    "* The code snippet sns.countplot(x='Emotion', data=df) uses Seaborn's countplot function to create a countplot based on the 'Emotion' column from the DataFrame df.\n",
    "* The 'Emotion' column likely contains categorical data representing different emotions.\n",
    "\n",
    "### In the code \n",
    "* In the code first import the necessary libraries, Seaborn (sns) and Pandas (pd).\n",
    "* Then, assuming df is a DataFrame with the required data, we use sns.countplot(x='Emotion', data=df) to generate a countplot based on the 'Emotion' column in the DataFrame."
   ]
  },
  {
   "cell_type": "markdown",
   "id": "a8bed511-d57c-462d-bb5b-a6396388ed5a",
   "metadata": {},
   "source": [
    "## Data pre-processing"
   ]
  },
  {
   "cell_type": "code",
   "execution_count": 6,
   "id": "00e3eec1-5f8e-49a8-a177-590f0053c05d",
   "metadata": {},
   "outputs": [],
   "source": [
    "import neattext.functions as nfx\n",
    "\n",
    "# Remove the user handles\n",
    "df['Clean_Text'] = df['Text'].apply(nfx.remove_userhandles)"
   ]
  },
  {
   "cell_type": "markdown",
   "id": "acb5a8f2-7df5-4808-8496-79b18e00065e",
   "metadata": {},
   "source": [
    "## Explaining User Handle Removal in Text Data using Neattext in Python\n",
    "\n",
    "### Introduction\n",
    "* User handles, often found in social media or online platforms, are usernames preceded by the \"@\" symbol.\n",
    "* Removing user handles is crucial in text preprocessing for tasks like sentiment analysis, text classification, or natural language processing.\n",
    "\n",
    "### Key Concepts\n",
    "* Neattext Library: Neattext is a Python library that provides text preprocessing functions for cleaning and transforming text data efficiently.\n",
    "* User Handles: User handles are unique identifiers used to mention or tag specific users in online conversations, typically starting with the \"@\" symbol.\n",
    "\n",
    "### Code Structure\n",
    "* The provided Python code snippet demonstrates how to remove user handles from a DataFrame column containing text data using the Neattext library.\n",
    "\n",
    "### In the code:\n",
    "* We import the necessary functions from the Neattext library using import neattext.functions as nfx.\n",
    "* The remove_userhandles function is applied to the 'Text' column of the DataFrame df, and the cleaned text is stored in a new column 'Clean_Text'."
   ]
  },
  {
   "cell_type": "code",
   "execution_count": 7,
   "id": "4eba66fa-870d-4986-ba48-8469d07c51b4",
   "metadata": {},
   "outputs": [
    {
     "data": {
      "text/plain": [
       "['BTC_ADDRESS_REGEX',\n",
       " 'CURRENCY_REGEX',\n",
       " 'CURRENCY_SYMB_REGEX',\n",
       " 'Counter',\n",
       " 'DATE_REGEX',\n",
       " 'EMAIL_REGEX',\n",
       " 'EMOJI_REGEX',\n",
       " 'HASTAG_REGEX',\n",
       " 'MASTERCard_REGEX',\n",
       " 'MD5_SHA_REGEX',\n",
       " 'MOST_COMMON_PUNCT_REGEX',\n",
       " 'NUMBERS_REGEX',\n",
       " 'PHONE_REGEX',\n",
       " 'PoBOX_REGEX',\n",
       " 'SPECIAL_CHARACTERS_REGEX',\n",
       " 'STOPWORDS',\n",
       " 'STOPWORDS_de',\n",
       " 'STOPWORDS_en',\n",
       " 'STOPWORDS_es',\n",
       " 'STOPWORDS_fr',\n",
       " 'STOPWORDS_ru',\n",
       " 'STOPWORDS_yo',\n",
       " 'STREET_ADDRESS_REGEX',\n",
       " 'TextFrame',\n",
       " 'URL_PATTERN',\n",
       " 'USER_HANDLES_REGEX',\n",
       " 'VISACard_REGEX',\n",
       " '__builtins__',\n",
       " '__cached__',\n",
       " '__doc__',\n",
       " '__file__',\n",
       " '__generate_text',\n",
       " '__loader__',\n",
       " '__name__',\n",
       " '__numbers_dict',\n",
       " '__package__',\n",
       " '__spec__',\n",
       " '_lex_richness_herdan',\n",
       " '_lex_richness_maas_ttr',\n",
       " 'clean_text',\n",
       " 'defaultdict',\n",
       " 'digit2words',\n",
       " 'extract_btc_address',\n",
       " 'extract_currencies',\n",
       " 'extract_currency_symbols',\n",
       " 'extract_dates',\n",
       " 'extract_emails',\n",
       " 'extract_emojis',\n",
       " 'extract_hashtags',\n",
       " 'extract_html_tags',\n",
       " 'extract_mastercard_addr',\n",
       " 'extract_md5sha',\n",
       " 'extract_numbers',\n",
       " 'extract_pattern',\n",
       " 'extract_phone_numbers',\n",
       " 'extract_postoffice_box',\n",
       " 'extract_shortwords',\n",
       " 'extract_special_characters',\n",
       " 'extract_stopwords',\n",
       " 'extract_street_address',\n",
       " 'extract_terms_in_bracket',\n",
       " 'extract_urls',\n",
       " 'extract_userhandles',\n",
       " 'extract_visacard_addr',\n",
       " 'fix_contractions',\n",
       " 'generate_sentence',\n",
       " 'hamming_distance',\n",
       " 'inverse_df',\n",
       " 'lexical_richness',\n",
       " 'markov_chain',\n",
       " 'math',\n",
       " 'nlargest',\n",
       " 'normalize',\n",
       " 'num2words',\n",
       " 'random',\n",
       " 're',\n",
       " 'read_txt',\n",
       " 'remove_accents',\n",
       " 'remove_bad_quotes',\n",
       " 'remove_btc_address',\n",
       " 'remove_currencies',\n",
       " 'remove_currency_symbols',\n",
       " 'remove_custom_pattern',\n",
       " 'remove_custom_words',\n",
       " 'remove_dates',\n",
       " 'remove_emails',\n",
       " 'remove_emojis',\n",
       " 'remove_hashtags',\n",
       " 'remove_html_tags',\n",
       " 'remove_mastercard_addr',\n",
       " 'remove_md5sha',\n",
       " 'remove_multiple_spaces',\n",
       " 'remove_non_ascii',\n",
       " 'remove_numbers',\n",
       " 'remove_phone_numbers',\n",
       " 'remove_postoffice_box',\n",
       " 'remove_puncts',\n",
       " 'remove_punctuations',\n",
       " 'remove_shortwords',\n",
       " 'remove_special_characters',\n",
       " 'remove_stopwords',\n",
       " 'remove_street_address',\n",
       " 'remove_terms_in_bracket',\n",
       " 'remove_urls',\n",
       " 'remove_userhandles',\n",
       " 'remove_visacard_addr',\n",
       " 'replace_bad_quotes',\n",
       " 'replace_currencies',\n",
       " 'replace_currency_symbols',\n",
       " 'replace_dates',\n",
       " 'replace_emails',\n",
       " 'replace_emojis',\n",
       " 'replace_numbers',\n",
       " 'replace_phone_numbers',\n",
       " 'replace_special_characters',\n",
       " 'replace_term',\n",
       " 'replace_urls',\n",
       " 'string',\n",
       " 'term_freq',\n",
       " 'to_txt',\n",
       " 'unicodedata',\n",
       " 'word_freq',\n",
       " 'word_length_freq']"
      ]
     },
     "execution_count": 7,
     "metadata": {},
     "output_type": "execute_result"
    }
   ],
   "source": [
    "dir(nfx)"
   ]
  },
  {
   "cell_type": "markdown",
   "id": "1070881a-a475-4426-8e11-8b035402c971",
   "metadata": {},
   "source": [
    "## Exploring Python Objects with dir() Function\n",
    "\n",
    "### Introduction\n",
    "* In Python, the dir() function is a powerful tool used to explore the attributes of an object.\n",
    "* When applied to an object, dir() returns a list of valid attributes and methods associated with that object.\n",
    "* This function is particularly useful for understanding the structure of an object and discovering what operations can be performed on it.\n",
    "\n",
    "### Key Concepts\n",
    "* dir() Function: The dir() function in Python is used to list the attributes of an object. It returns a sorted list of strings containing the names of the object's attributes.\n",
    "* Object Attributes: Attributes are properties associated with an object. These can include variables, methods, and other elements that define the object's behavior.\n",
    "\n",
    "### Code Structure\n",
    "* The code snippet dir(nfx) is a simple example of using the dir() function to explore the attributes of the object nfx.\n",
    "* By passing nfx as an argument to dir(), we can inspect the attributes and methods available for manipulation within the nfx object.\n",
    "\n",
    "### In the Code\n",
    "* We define a SampleClass with an attribute data and a method display().\n",
    "* We then create an instance of SampleClass and use dir() to list its attributes.\n",
    "* Running this code will display a list of attributes and methods available for the sample_obj."
   ]
  },
  {
   "cell_type": "code",
   "execution_count": 8,
   "id": "95a103a2-40df-44de-9e44-f8f0af0b3817",
   "metadata": {},
   "outputs": [
    {
     "data": {
      "text/html": [
       "<div>\n",
       "<style scoped>\n",
       "    .dataframe tbody tr th:only-of-type {\n",
       "        vertical-align: middle;\n",
       "    }\n",
       "\n",
       "    .dataframe tbody tr th {\n",
       "        vertical-align: top;\n",
       "    }\n",
       "\n",
       "    .dataframe thead th {\n",
       "        text-align: right;\n",
       "    }\n",
       "</style>\n",
       "<table border=\"1\" class=\"dataframe\">\n",
       "  <thead>\n",
       "    <tr style=\"text-align: right;\">\n",
       "      <th></th>\n",
       "      <th>Emotion</th>\n",
       "      <th>Text</th>\n",
       "      <th>Clean_Text</th>\n",
       "    </tr>\n",
       "  </thead>\n",
       "  <tbody>\n",
       "    <tr>\n",
       "      <th>0</th>\n",
       "      <td>neutral</td>\n",
       "      <td>Why ?</td>\n",
       "      <td>?</td>\n",
       "    </tr>\n",
       "    <tr>\n",
       "      <th>1</th>\n",
       "      <td>joy</td>\n",
       "      <td>Sage Act upgrade on my to do list for tommorow.</td>\n",
       "      <td>Sage Act upgrade list tommorow.</td>\n",
       "    </tr>\n",
       "    <tr>\n",
       "      <th>2</th>\n",
       "      <td>sadness</td>\n",
       "      <td>ON THE WAY TO MY HOMEGIRL BABY FUNERAL!!! MAN ...</td>\n",
       "      <td>WAY HOMEGIRL BABY FUNERAL!!! MAN HATE FUNERALS...</td>\n",
       "    </tr>\n",
       "    <tr>\n",
       "      <th>3</th>\n",
       "      <td>joy</td>\n",
       "      <td>Such an eye ! The true hazel eye-and so brill...</td>\n",
       "      <td>eye ! true hazel eye-and brilliant ! Regular f...</td>\n",
       "    </tr>\n",
       "    <tr>\n",
       "      <th>4</th>\n",
       "      <td>joy</td>\n",
       "      <td>@Iluvmiasantos ugh babe.. hugggzzz for u .!  b...</td>\n",
       "      <td>ugh babe.. hugggzzz u .! babe naamazed nga ako...</td>\n",
       "    </tr>\n",
       "    <tr>\n",
       "      <th>...</th>\n",
       "      <td>...</td>\n",
       "      <td>...</td>\n",
       "      <td>...</td>\n",
       "    </tr>\n",
       "    <tr>\n",
       "      <th>34787</th>\n",
       "      <td>surprise</td>\n",
       "      <td>@MichelGW have you gift! Hope you like it! It'...</td>\n",
       "      <td>gift! Hope like it! hand wear ! It'll warm! Lol</td>\n",
       "    </tr>\n",
       "    <tr>\n",
       "      <th>34788</th>\n",
       "      <td>joy</td>\n",
       "      <td>The world didnt give it to me..so the world MO...</td>\n",
       "      <td>world didnt me..so world DEFINITELY cnt away!!!</td>\n",
       "    </tr>\n",
       "    <tr>\n",
       "      <th>34789</th>\n",
       "      <td>anger</td>\n",
       "      <td>A man robbed me today .</td>\n",
       "      <td>man robbed today .</td>\n",
       "    </tr>\n",
       "    <tr>\n",
       "      <th>34790</th>\n",
       "      <td>fear</td>\n",
       "      <td>Youu call it JEALOUSY, I call it of #Losing YO...</td>\n",
       "      <td>Youu JEALOUSY, #Losing YOU...</td>\n",
       "    </tr>\n",
       "    <tr>\n",
       "      <th>34791</th>\n",
       "      <td>sadness</td>\n",
       "      <td>I think about you baby, and I dream about you ...</td>\n",
       "      <td>think baby, dream time</td>\n",
       "    </tr>\n",
       "  </tbody>\n",
       "</table>\n",
       "<p>34792 rows × 3 columns</p>\n",
       "</div>"
      ],
      "text/plain": [
       "        Emotion                                               Text  \\\n",
       "0       neutral                                             Why ?    \n",
       "1           joy    Sage Act upgrade on my to do list for tommorow.   \n",
       "2       sadness  ON THE WAY TO MY HOMEGIRL BABY FUNERAL!!! MAN ...   \n",
       "3           joy   Such an eye ! The true hazel eye-and so brill...   \n",
       "4           joy  @Iluvmiasantos ugh babe.. hugggzzz for u .!  b...   \n",
       "...         ...                                                ...   \n",
       "34787  surprise  @MichelGW have you gift! Hope you like it! It'...   \n",
       "34788       joy  The world didnt give it to me..so the world MO...   \n",
       "34789     anger                           A man robbed me today .    \n",
       "34790      fear  Youu call it JEALOUSY, I call it of #Losing YO...   \n",
       "34791   sadness  I think about you baby, and I dream about you ...   \n",
       "\n",
       "                                              Clean_Text  \n",
       "0                                                      ?  \n",
       "1                        Sage Act upgrade list tommorow.  \n",
       "2      WAY HOMEGIRL BABY FUNERAL!!! MAN HATE FUNERALS...  \n",
       "3      eye ! true hazel eye-and brilliant ! Regular f...  \n",
       "4      ugh babe.. hugggzzz u .! babe naamazed nga ako...  \n",
       "...                                                  ...  \n",
       "34787    gift! Hope like it! hand wear ! It'll warm! Lol  \n",
       "34788    world didnt me..so world DEFINITELY cnt away!!!  \n",
       "34789                                 man robbed today .  \n",
       "34790                      Youu JEALOUSY, #Losing YOU...  \n",
       "34791                             think baby, dream time  \n",
       "\n",
       "[34792 rows x 3 columns]"
      ]
     },
     "execution_count": 8,
     "metadata": {},
     "output_type": "execute_result"
    }
   ],
   "source": [
    "# Remove the stopwords\n",
    "df['Clean_Text'] = df['Clean_Text'].apply(nfx.remove_stopwords)\n",
    "df"
   ]
  },
  {
   "cell_type": "markdown",
   "id": "cc7b6bee-5e4b-4ad4-95cc-8d66ff23c389",
   "metadata": {},
   "source": [
    "## Removing Stopwords from Text Data\n",
    "\n",
    "### Introduction\n",
    "* We will delve into a Python code snippet that removes stopwords from text data using the nfx.remove_stopwords function.\n",
    "* Stopwords are common words like \"the,\" \"is,\" \"and,\" etc., that do not carry significant meaning in text analysis tasks such as sentiment analysis, text classification, or topic modeling.\n",
    "\n",
    "### Key Concepts\n",
    "* Stopwords: Common words that are filtered out before or after processing of natural language data.\n",
    "* Text Data: Information stored or communicated in the form of text that can be analyzed for various purposes.\n",
    "* nfx.remove_stopwords: A function that removes stopwords from text data provided as input.\n",
    "\n",
    "### Code Structure\n",
    "* The code snippet provided uses the apply function in Pandas to apply the nfx.remove_stopwords function to each element in the 'Clean_Text' column of a DataFrame named df.\n",
    "* By doing so, it removes stopwords from the text data in the 'Clean_Text' column and updates the column with the cleaned text.\n",
    "\n",
    "### In the code:\n",
    "\n",
    "* df['Clean_Text']: Refers to the 'Clean_Text' column in the DataFrame df where the text data is stored.\n",
    "* apply(nfx.remove_stopwords): Applies the nfx.remove_stopwords function to each element in the 'Clean_Text' column to remove stopwords."
   ]
  },
  {
   "cell_type": "markdown",
   "id": "0e22eca2-3c9a-44d6-8386-460d91b88fe6",
   "metadata": {},
   "source": [
    "## Splitting data into input variables and target variable\n",
    "\n",
    "* x: Features are the attributes and variables extracted from the dataset. These extracted features are used as inputs to the model during training.\n",
    "\n",
    "* y: Labels are the output or the target variable."
   ]
  },
  {
   "cell_type": "code",
   "execution_count": 9,
   "id": "afdc408f-fe7e-4af7-a560-0becd51ace8f",
   "metadata": {},
   "outputs": [],
   "source": [
    "x = df['Clean_Text']\n",
    "y = df['Emotion']"
   ]
  },
  {
   "cell_type": "markdown",
   "id": "40a698f9-edac-4f97-8bbe-8ce94525ec81",
   "metadata": {},
   "source": [
    "## Explaining Data Extraction in Python DataFrame\n",
    "\n",
    "### Introduction\n",
    "* In this we will delve into how to extract data from a Python DataFrame using specific columns.\n",
    "* The code snippet provided focuses on extracting two columns, 'Clean_Text' and 'Emotion', from a DataFrame named 'df'.\n",
    "\n",
    "### Key Concepts\n",
    "* DataFrame: A DataFrame is a two-dimensional, size-mutable, and heterogeneous tabular data structure with labeled axes (rows and columns).\n",
    "* Data Extraction: Refers to the process of retrieving specific data from a dataset or DataFrame.\n",
    "* Columns: Columns in a DataFrame represent variables or features of the data.\n",
    "\n",
    "### Code Structure\n",
    "* The code snippet provided assigns the 'Clean_Text' column of the DataFrame 'df' to the variable 'x' and the 'Emotion' column to the variable 'y'.\n",
    "* This operation allows you to work with these specific columns independently for further analysis or processing.\n",
    "\n",
    "### In the Code\n",
    "* Understanding how to extract specific columns from a DataFrame is crucial for data manipulation and analysis in Python.\n",
    "* By assigning columns to variables like 'x' and 'y', you can easily access and work with the extracted data.\n",
    "* This process streamlines data handling and facilitates various operations on the extracted columns."
   ]
  },
  {
   "cell_type": "markdown",
   "id": "2020c18d-a593-4e59-a4bd-572ff21233b8",
   "metadata": {},
   "source": [
    "## Splitting data into train and test set"
   ]
  },
  {
   "cell_type": "code",
   "execution_count": 10,
   "id": "6281426b-d859-4da8-aa3f-6ba67f8215ad",
   "metadata": {},
   "outputs": [],
   "source": [
    "from sklearn.model_selection import train_test_split\n",
    "\n",
    "x_train,x_test,y_train,y_test = train_test_split(x,y,test_size=0.3,random_state=42)"
   ]
  },
  {
   "cell_type": "markdown",
   "id": "382dda6d-8b77-4b5b-a99d-751022690e57",
   "metadata": {},
   "source": [
    "## Understanding Train-Test Split in Machine Learning\n",
    "\n",
    "### Introduction\n",
    "* In machine learning, splitting a dataset into training and testing sets is crucial for model evaluation and validation.\n",
    "* The code snippet provided demonstrates how to split data using the train_test_split function from the sklearn.model_selection module in Python.\n",
    "\n",
    "### Key Concepts\n",
    "* Train-Test Split: Dividing the dataset into two subsets - training data used to train the model and testing data used to evaluate its performance.\n",
    "* train_test_split Function: A method that shuffles and splits data arrays into random train and test subsets.\n",
    "\n",
    "### Code Structure\n",
    "The code snippet uses the train_test_split function to split the data into training and testing sets. It takes four parameters:\n",
    "* x: Input features\n",
    "* y: Target variable\n",
    "* test_size: The proportion of the dataset to include in the test split\n",
    "* random_state: Controls the shuffling applied to the data before splitting\n",
    "\n",
    "### In the code:\n",
    "* x_train: Training data features\n",
    "* x_test: Testing data features\n",
    "* y_train: Training data target variable\n",
    "* y_test: Testing data target variable"
   ]
  },
  {
   "cell_type": "markdown",
   "id": "0d7ef97f-309b-49e1-8e6d-84f05c22fe28",
   "metadata": {},
   "source": [
    "## Training the model"
   ]
  },
  {
   "cell_type": "code",
   "execution_count": 11,
   "id": "7085ddc8-5b09-4b90-b04e-34bec10d4eda",
   "metadata": {},
   "outputs": [],
   "source": [
    "from sklearn.pipeline import Pipeline\n",
    "from sklearn.feature_extraction.text import CountVectorizer\n",
    "from sklearn.svm import SVC\n",
    "from sklearn.ensemble import RandomForestClassifier\n",
    "from sklearn.linear_model import LogisticRegression"
   ]
  },
  {
   "cell_type": "markdown",
   "id": "dac5b2ff-76ea-495f-beaa-4e0c127ee0f0",
   "metadata": {},
   "source": [
    "## Understanding Text Classification Pipelines in Python\n",
    "\n",
    "### Introduction\n",
    "\n",
    "* In this we will delve into creating a text classification pipeline in Python using popular libraries like sklearn.\n",
    "* Text classification is a common task in natural language processing (NLP) where we categorize text into predefined classes or categories.\n",
    "\n",
    "### Key Concepts\n",
    "\n",
    "* Pipeline: A pipeline in sklearn allows us to chain multiple estimators into one. This is useful for sequential transformations of data.\n",
    "CountVectorizer: This is used to convert a collection of text documents into a matrix of token counts.\n",
    "\n",
    "* SVC (Support Vector Classifier): A type of classifier that finds the hyperplane that best divides a dataset into classes.\n",
    "RandomForestClassifier: An ensemble learning method that operates by constructing multiple decision trees during training.\n",
    "\n",
    "* LogisticRegression: A linear model for binary classification that predicts the probability of a sample belonging to a class.\n",
    "\n",
    "### Code Structure\n",
    "* The code snippet imports necessary modules for building a text classification pipeline.\n",
    "* It imports Pipeline for creating a sequence of transformations, CountVectorizer for converting text to a matrix of token counts, and classifiers like SVC, RandomForestClassifier, and LogisticRegression for the classification task."
   ]
  },
  {
   "cell_type": "code",
   "execution_count": 12,
   "id": "14b040d5-d559-4efc-b2ff-16615806249b",
   "metadata": {},
   "outputs": [
    {
     "name": "stderr",
     "output_type": "stream",
     "text": [
      "C:\\Users\\burid\\AppData\\Local\\Programs\\Python\\Python312\\Lib\\site-packages\\sklearn\\linear_model\\_logistic.py:469: ConvergenceWarning: lbfgs failed to converge (status=1):\n",
      "STOP: TOTAL NO. of ITERATIONS REACHED LIMIT.\n",
      "\n",
      "Increase the number of iterations (max_iter) or scale the data as shown in:\n",
      "    https://scikit-learn.org/stable/modules/preprocessing.html\n",
      "Please also refer to the documentation for alternative solver options:\n",
      "    https://scikit-learn.org/stable/modules/linear_model.html#logistic-regression\n",
      "  n_iter_i = _check_optimize_result(\n"
     ]
    },
    {
     "data": {
      "text/plain": [
       "0.6201379574631155"
      ]
     },
     "execution_count": 12,
     "metadata": {},
     "output_type": "execute_result"
    }
   ],
   "source": [
    "pipe_lr = Pipeline(steps=[('cv',CountVectorizer()),('lr',LogisticRegression())])\n",
    "pipe_lr.fit(x_train,y_train)\n",
    "pipe_lr.score(x_test,y_test)"
   ]
  },
  {
   "cell_type": "markdown",
   "id": "c5e0cfae-8894-44c8-82d5-143fbbd05b73",
   "metadata": {},
   "source": [
    "## Understanding Text Classification with Logistic Regression in Python\n",
    "\n",
    "### Introduction\n",
    "\n",
    "* In this we will delve into a Python code snippet that demonstrates text classification using Logistic Regression.\n",
    "\n",
    "* Text classification is a fundamental task in Natural Language Processing (NLP), where machine learning models are trained to predict the category or class of a given text.\n",
    "\n",
    "* Logistic Regression is a popular algorithm for binary classification tasks like sentiment analysis, spam detection, and more.\n",
    "\n",
    "### Key Concepts\n",
    "\n",
    "* Pipeline: A Pipeline in scikit-learn is a sequence of steps where each step can be a transformer (like CountVectorizer for text preprocessing) or an estimator (like LogisticRegression for classification).\n",
    "\n",
    "* CountVectorizer: Converts a collection of text documents into a matrix of token counts.\n",
    "\n",
    "* Logistic Regression: A linear model used for binary classification tasks.\n",
    "Code Structure\n",
    "\n",
    "##### The provided Python code snippet creates a Pipeline that consists of two main steps:\n",
    "\n",
    "   * CountVectorizer: This step converts text data into a numerical format          that machine learning algorithms can process.\n",
    "     \n",
    "   * LogisticRegression: This step trains a Logistic Regression model on the        transformed text data.\n",
    "\n",
    "After defining the Pipeline, the code fits the model on the training data (x_train and y_train) using the fit() method. Finally, it evaluates the model's performance on the test data (x_test and y_test) by calculating the accuracy score using the score() method."
   ]
  },
  {
   "cell_type": "code",
   "execution_count": 13,
   "id": "1001fc6b-9da2-4734-a25f-47b36f487ee3",
   "metadata": {},
   "outputs": [
    {
     "data": {
      "text/plain": [
       "0.62195822954589"
      ]
     },
     "execution_count": 13,
     "metadata": {},
     "output_type": "execute_result"
    }
   ],
   "source": [
    "pipe_svm = Pipeline(steps=[('cv',CountVectorizer()),('svc', SVC(kernel = 'rbf', C = 10))])\n",
    "pipe_svm.fit(x_train,y_train)\n",
    "pipe_svm.score(x_test,y_test)"
   ]
  },
  {
   "cell_type": "markdown",
   "id": "7b8ccf29-27a6-4959-accd-fb4539004cff",
   "metadata": {},
   "source": [
    "## Understanding Support Vector Machine (SVM) Pipeline in Python\n",
    "\n",
    "### Introduction\n",
    "\n",
    "* In this we will delve into a Python code snippet that involves creating a Support Vector Machine (SVM) pipeline using scikit-learn.\n",
    "* The code demonstrates the construction of a pipeline that includes a CountVectorizer for text preprocessing and an SVM classifier with an RBF kernel and a regularization parameter C      set to 10.\n",
    "\n",
    "### Key Concepts\n",
    "\n",
    "* Pipeline: A pipeline in scikit-learn allows chaining multiple transformers and estimators into a single unit. This helps in automating workflows and ensuring consistency in data          preprocessing and model training.\n",
    "\n",
    "* CountVectorizer: CountVectorizer is used to convert a collection of text documents into a matrix of token counts. It is a common preprocessing step in natural language processing tasks.\n",
    "\n",
    "* SVM (Support Vector Machine): SVM is a powerful supervised machine learning algorithm used for classification and regression tasks. It finds the optimal hyperplane that best separates    different classes in the feature space.\n",
    "\n",
    "### Code Structure\n",
    "\n",
    "The code snippet creates a pipeline named pipe_svm with two main steps:\n",
    "\n",
    "  *  CountVectorizer: This step preprocesses the input text data by converting it into a matrix of token counts.\n",
    "  * SVC (Support Vector Classifier): This step implements the SVM classifier with a radial basis function (RBF) kernel and a regularization parameter C set to 10."
   ]
  },
  {
   "cell_type": "code",
   "execution_count": 14,
   "id": "b1f0d4f0-0c62-479e-b3f7-3373ac7b146f",
   "metadata": {},
   "outputs": [
    {
     "data": {
      "text/plain": [
       "0.5660088139490324"
      ]
     },
     "execution_count": 14,
     "metadata": {},
     "output_type": "execute_result"
    }
   ],
   "source": [
    "pipe_rf = Pipeline(steps=[('cv',CountVectorizer()),('rf', RandomForestClassifier(n_estimators=10))])\n",
    "pipe_rf.fit(x_train,y_train)\n",
    "pipe_rf.score(x_test,y_test)"
   ]
  },
  {
   "cell_type": "markdown",
   "id": "3739c4e2-c0bf-4191-b5c3-9f14989195aa",
   "metadata": {},
   "source": [
    "## Understanding a Pipeline for Text Classification using Random Forest Classifier\n",
    "\n",
    "### Introduction\n",
    "\n",
    "* In this we will delve into a Python code snippet that involves creating a pipeline for text classification using a Random Forest Classifier.\n",
    "* The code utilizes the scikit-learn library to build a pipeline that includes a CountVectorizer for text preprocessing and a Random Forest Classifier for classification tasks.\n",
    "\n",
    "### Key Concepts\n",
    "\n",
    "* Pipeline: A pipeline in scikit-learn allows you to chain multiple transformers and estimators together. This enables you to streamline the workflow by sequentially applying various processing steps to the data.\n",
    "\n",
    "* CountVectorizer: CountVectorizer is used to convert a collection of text documents into a matrix of token counts. It preprocesses the text data by tokenizing and counting the occurrences of words.\n",
    "\n",
    "* Random Forest Classifier: Random Forest is an ensemble learning method that constructs a multitude of decision trees during training and outputs the class that is the mode of the classes (classification) or mean prediction (regression) of the individual trees.\n",
    "\n",
    "### Code Structure\n",
    "\n",
    "The provided code snippet creates a pipeline named pipe_rf that consists of two main steps:\n",
    "\n",
    "* CountVectorizer: This step preprocesses the text data by converting it into a matrix of token counts.\n",
    "* Random Forest Classifier: This step involves the Random Forest Classifier with 10 estimators for classification."
   ]
  },
  {
   "cell_type": "markdown",
   "id": "dd04ba3b-a383-432d-b3b8-c0c91e7aef67",
   "metadata": {},
   "source": [
    "## Saving the model"
   ]
  },
  {
   "cell_type": "code",
   "execution_count": 15,
   "id": "f7ab935b-7c18-4634-8b55-a457bc2bb959",
   "metadata": {},
   "outputs": [],
   "source": [
    "import joblib\n",
    "pipeline_file = open(\"text_emotion.pkl\",\"wb\")\n",
    "joblib.dump(pipe_lr,pipeline_file)\n",
    "pipeline_file.close()"
   ]
  },
  {
   "cell_type": "markdown",
   "id": "86cc053e-2cd2-4d35-860d-5e8ab8c1c77d",
   "metadata": {},
   "source": [
    "## Saving a Text Emotion Classifier Model in Python\n",
    "\n",
    "### Introduction\n",
    "* In this code snippet, we are saving a Text Emotion Classifier model in Python using the joblib library.\n",
    "* The model is being saved to a file named \"text_emotion.pkl\" in binary mode.\n",
    "\n",
    "### Key Concepts\n",
    "* joblib Library: The joblib library is used for serialization and deserialization of Python objects. It is particularly useful for efficiently saving and loading machine learning models.\n",
    "\n",
    "* Model Persistence: Saving a machine learning model allows us to reuse it later without the need to retrain the model. This is crucial for deploying models in production environments.\n",
    "\n",
    "### Code Structure\n",
    "The code consists of three main parts:\n",
    "\n",
    "* Importing the joblib library.\n",
    "* Opening a file named \"text_emotion.pkl\" in write-binary mode.\n",
    "* Dumping the pipe_lr model into the file using joblib.dump().\n",
    "* Closing the file after the model has been saved."
   ]
  }
 ],
 "metadata": {
  "kernelspec": {
   "display_name": "Python 3 (ipykernel)",
   "language": "python",
   "name": "python3"
  },
  "language_info": {
   "codemirror_mode": {
    "name": "ipython",
    "version": 3
   },
   "file_extension": ".py",
   "mimetype": "text/x-python",
   "name": "python",
   "nbconvert_exporter": "python",
   "pygments_lexer": "ipython3",
   "version": "3.12.2"
  },
  "widgets": {
   "application/vnd.jupyter.widget-state+json": {
    "state": {},
    "version_major": 2,
    "version_minor": 0
   }
  }
 },
 "nbformat": 4,
 "nbformat_minor": 5
}
